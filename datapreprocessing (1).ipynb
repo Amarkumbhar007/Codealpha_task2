{
  "nbformat": 4,
  "nbformat_minor": 0,
  "metadata": {
    "colab": {
      "provenance": []
    },
    "kernelspec": {
      "name": "python3",
      "display_name": "Python 3"
    },
    "language_info": {
      "name": "python"
    }
  },
  "cells": [
    {
      "cell_type": "code",
      "execution_count": null,
      "metadata": {
        "id": "C1cBqXgAZwus"
      },
      "outputs": [],
      "source": [
        "import numpy as np\n",
        "import pandas as pd"
      ]
    },
    {
      "cell_type": "code",
      "source": [
        "np.random.seed(202)\n"
      ],
      "metadata": {
        "id": "hsjMTkniZ1yK"
      },
      "execution_count": null,
      "outputs": []
    },
    {
      "cell_type": "code",
      "source": [
        "n_samples = 1200\n",
        "square_feet = np.random.normal(2000, 500, n_samples).astype(float)\n",
        "num_bedrooms = np.random.randint(1, 6, n_samples).astype(float)\n",
        "num_bathrooms = np.random.randint(1, 4, n_samples).astype(float)\n",
        "price = np.random.normal(300000, 75000, n_samples).astype(float)"
      ],
      "metadata": {
        "id": "ZYGbcdVpZ3XY"
      },
      "execution_count": null,
      "outputs": []
    },
    {
      "cell_type": "code",
      "source": [
        "np.random.seed(202)\n",
        "missing_indices_square_feet = np.random.choice(n_samples, 70, replace=False)\n",
        "missing_indices_bedrooms = np.random.choice(n_samples, 50, replace=False)\n",
        "missing_indices_price = np.random.choice(n_samples, 40, replace=False)\n",
        "\n",
        "square_feet[missing_indices_square_feet] = np.nan\n",
        "num_bedrooms[missing_indices_bedrooms] = np.nan\n",
        "price[missing_indices_price] = np.nan"
      ],
      "metadata": {
        "id": "SXtQDourZ7RR"
      },
      "execution_count": null,
      "outputs": []
    },
    {
      "cell_type": "code",
      "source": [
        "data = pd.DataFrame({\n",
        "    'SquareFeet': square_feet,\n",
        "    'NumBedrooms': num_bedrooms,\n",
        "    'NumBathrooms': num_bathrooms,\n",
        "    'Price': price\n",
        "})\n"
      ],
      "metadata": {
        "id": "K1_WKzJTZ9p7"
      },
      "execution_count": null,
      "outputs": []
    },
    {
      "cell_type": "code",
      "source": [
        "print(data.head())\n",
        "print(\"Missing values in each column:\\n\", data.isnull().sum())"
      ],
      "metadata": {
        "colab": {
          "base_uri": "https://localhost:8080/"
        },
        "id": "bqRr6eDbaiu-",
        "outputId": "28338fe2-e9d8-4fcf-eadb-aebb0327f21b"
      },
      "execution_count": null,
      "outputs": [
        {
          "output_type": "stream",
          "name": "stdout",
          "text": [
            "    SquareFeet  NumBedrooms  NumBathrooms          Price\n",
            "0  2433.541377          3.0           2.0  377303.381143\n",
            "1  1909.133034          2.0           1.0  275206.613039\n",
            "2  1539.275650          2.0           3.0  274299.655131\n",
            "3  2725.165181          2.0           1.0  128238.075187\n",
            "4  1783.370346          2.0           1.0  282594.973096\n",
            "Missing values in each column:\n",
            " SquareFeet      70\n",
            "NumBedrooms     50\n",
            "NumBathrooms     0\n",
            "Price           40\n",
            "dtype: int64\n"
          ]
        }
      ]
    },
    {
      "cell_type": "code",
      "source": [
        "data['SquareFeet'].fillna(data['SquareFeet'].median(), inplace=True)\n",
        "data['NumBedrooms'].fillna(data['NumBedrooms'].mode()[0], inplace=True)\n",
        "data['Price'].fillna(data['Price'].median(), inplace=True)"
      ],
      "metadata": {
        "id": "XSH_t1rgal6a"
      },
      "execution_count": null,
      "outputs": []
    },
    {
      "cell_type": "code",
      "source": [
        "print(\"Missing values after imputation:\\n\", data.isnull().sum())\n"
      ],
      "metadata": {
        "colab": {
          "base_uri": "https://localhost:8080/"
        },
        "id": "yKsWn9pSapN8",
        "outputId": "6210106d-9f0a-41cf-8d59-8501bf2f2407"
      },
      "execution_count": null,
      "outputs": [
        {
          "output_type": "stream",
          "name": "stdout",
          "text": [
            "Missing values after imputation:\n",
            " SquareFeet      0\n",
            "NumBedrooms     0\n",
            "NumBathrooms    0\n",
            "Price           0\n",
            "dtype: int64\n"
          ]
        }
      ]
    },
    {
      "cell_type": "code",
      "source": [
        "def remove_outliers(df, column):\n",
        "    Q1 = df[column].quantile(0.25)\n",
        "    Q3 = df[column].quantile(0.75)\n",
        "    IQR = Q3 - Q1\n",
        "    lower_bound = Q1 - 1.5 * IQR\n",
        "    upper_bound = Q3 + 1.5 * IQR\n",
        "    return df[(df[column] >= lower_bound) & (df[column] <= upper_bound)]\n"
      ],
      "metadata": {
        "id": "hNME7uffaqvf"
      },
      "execution_count": null,
      "outputs": []
    },
    {
      "cell_type": "code",
      "source": [
        "data = remove_outliers(data, 'SquareFeet')\n",
        "data = remove_outliers(data, 'Price')\n",
        "\n",
        "print(\"Data shape after outlier removal:\", data.shape)"
      ],
      "metadata": {
        "colab": {
          "base_uri": "https://localhost:8080/"
        },
        "id": "q2_wJ-bDatTU",
        "outputId": "2877435f-8d47-4fb7-b2f2-32b671958b5d"
      },
      "execution_count": null,
      "outputs": [
        {
          "output_type": "stream",
          "name": "stdout",
          "text": [
            "Data shape after outlier removal: (1173, 4)\n"
          ]
        }
      ]
    },
    {
      "cell_type": "code",
      "source": [
        "from sklearn.preprocessing import StandardScaler\n"
      ],
      "metadata": {
        "id": "0Fjawz8-a2Zr"
      },
      "execution_count": null,
      "outputs": []
    },
    {
      "cell_type": "code",
      "source": [
        "features = ['SquareFeet', 'NumBedrooms', 'NumBathrooms']\n",
        "target = 'Price'"
      ],
      "metadata": {
        "id": "HNGotEPUa4SP"
      },
      "execution_count": null,
      "outputs": []
    },
    {
      "cell_type": "code",
      "source": [
        "scaler = StandardScaler()\n"
      ],
      "metadata": {
        "id": "Hbr3bKzqa62L"
      },
      "execution_count": null,
      "outputs": []
    },
    {
      "cell_type": "code",
      "source": [
        "data[features] = scaler.fit_transform(data[features])\n"
      ],
      "metadata": {
        "id": "Dqfbbfiya8nY"
      },
      "execution_count": null,
      "outputs": []
    },
    {
      "cell_type": "code",
      "source": [
        "print(data.head())\n"
      ],
      "metadata": {
        "colab": {
          "base_uri": "https://localhost:8080/"
        },
        "id": "3jjqrL2da-Yk",
        "outputId": "a1b9ff19-c4cc-457f-eec3-c7796e65e62a"
      },
      "execution_count": null,
      "outputs": [
        {
          "output_type": "stream",
          "name": "stdout",
          "text": [
            "   SquareFeet  NumBedrooms  NumBathrooms          Price\n",
            "0    0.945534     0.007463     -0.011583  377303.381143\n",
            "1   -0.206761    -0.722087     -1.246719  275206.613039\n",
            "2   -1.019458    -0.722087      1.223554  274299.655131\n",
            "3    1.586326    -0.722087     -1.246719  128238.075187\n",
            "4   -0.483103    -0.722087     -1.246719  282594.973096\n"
          ]
        }
      ]
    },
    {
      "cell_type": "code",
      "source": [
        "from sklearn.model_selection import train_test_split\n"
      ],
      "metadata": {
        "id": "K4sCJNfdbB2e"
      },
      "execution_count": null,
      "outputs": []
    },
    {
      "cell_type": "code",
      "source": [
        "X = data[features]\n",
        "y = data[target]\n"
      ],
      "metadata": {
        "id": "KPWqvUaIbEYX"
      },
      "execution_count": null,
      "outputs": []
    },
    {
      "cell_type": "code",
      "source": [
        "X_train, X_test, y_train, y_test = train_test_split(X, y, test_size=0.25, random_state=202)\n"
      ],
      "metadata": {
        "id": "pwfHfZGHbIQT"
      },
      "execution_count": null,
      "outputs": []
    },
    {
      "cell_type": "code",
      "source": [
        "print(\"Training set shape:\", X_train.shape)\n",
        "print(\"Testing set shape:\", X_test.shape)"
      ],
      "metadata": {
        "id": "0ew_sPgxbI-Q",
        "outputId": "06bc5748-3a02-4201-cce3-5368041ce04d",
        "colab": {
          "base_uri": "https://localhost:8080/"
        }
      },
      "execution_count": null,
      "outputs": [
        {
          "output_type": "stream",
          "name": "stdout",
          "text": [
            "Testing set shape: (294, 3)\n"
          ]
        }
      ]
    }
  ]
}